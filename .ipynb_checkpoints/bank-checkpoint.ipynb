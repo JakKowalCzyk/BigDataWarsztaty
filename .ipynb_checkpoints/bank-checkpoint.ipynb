{
 "cells": [
  {
   "cell_type": "markdown",
   "metadata": {},
   "source": [
    "# Bank marketing"
   ]
  },
  {
   "cell_type": "markdown",
   "metadata": {},
   "source": [
    "https://archive.ics.uci.edu/ml/datasets/Bank+Marketing"
   ]
  },
  {
   "cell_type": "code",
   "execution_count": 3,
   "metadata": {},
   "outputs": [
    {
     "ename": "ModuleNotFoundError",
     "evalue": "No module named 'matplotlib'",
     "output_type": "error",
     "traceback": [
      "\u001b[0;31m---------------------------------------------------------------------------\u001b[0m",
      "\u001b[0;31mModuleNotFoundError\u001b[0m                       Traceback (most recent call last)",
      "\u001b[0;32m<ipython-input-3-457b29a0f4b5>\u001b[0m in \u001b[0;36m<module>\u001b[0;34m()\u001b[0m\n\u001b[1;32m      1\u001b[0m \u001b[0;32mimport\u001b[0m \u001b[0mpandas\u001b[0m\u001b[0;34m\u001b[0m\u001b[0m\n\u001b[0;32m----> 2\u001b[0;31m \u001b[0;32mimport\u001b[0m \u001b[0mmatplotlib\u001b[0m\u001b[0;34m.\u001b[0m\u001b[0mpyplot\u001b[0m \u001b[0;32mas\u001b[0m \u001b[0mplt\u001b[0m\u001b[0;34m\u001b[0m\u001b[0m\n\u001b[0m\u001b[1;32m      3\u001b[0m \u001b[0;32mimport\u001b[0m \u001b[0mseaborn\u001b[0m\u001b[0;34m\u001b[0m\u001b[0m\n\u001b[1;32m      4\u001b[0m \u001b[0;32mimport\u001b[0m \u001b[0mnumpy\u001b[0m\u001b[0;34m\u001b[0m\u001b[0m\n\u001b[1;32m      5\u001b[0m \u001b[0;32mfrom\u001b[0m \u001b[0mos\u001b[0m \u001b[0;32mimport\u001b[0m \u001b[0mpath\u001b[0m\u001b[0;34m\u001b[0m\u001b[0m\n",
      "\u001b[0;31mModuleNotFoundError\u001b[0m: No module named 'matplotlib'"
     ]
    }
   ],
   "source": [
    "import pandas\n",
    "import matplotlib.pyplot as plt\n",
    "import seaborn\n",
    "import numpy\n",
    "from os import path\n",
    "from sklearn import preprocessing\n",
    "\n",
    "%matplotlib inline"
   ]
  },
  {
   "cell_type": "markdown",
   "metadata": {},
   "source": [
    "#### Pobieramy zbiór informacji na temat klientów odnośnie subskrypcji lokat bankowych"
   ]
  },
  {
   "cell_type": "code",
   "execution_count": 2,
   "metadata": {},
   "outputs": [
    {
     "ename": "NameError",
     "evalue": "name 'pandas' is not defined",
     "output_type": "error",
     "traceback": [
      "\u001b[0;31m---------------------------------------------------------------------------\u001b[0m",
      "\u001b[0;31mNameError\u001b[0m                                 Traceback (most recent call last)",
      "\u001b[0;32m<ipython-input-2-8b270423b0d4>\u001b[0m in \u001b[0;36m<module>\u001b[0;34m()\u001b[0m\n\u001b[0;32m----> 1\u001b[0;31m \u001b[0mbanks\u001b[0m \u001b[0;34m=\u001b[0m \u001b[0mpandas\u001b[0m\u001b[0;34m.\u001b[0m\u001b[0mread_csv\u001b[0m\u001b[0;34m(\u001b[0m\u001b[0;34m'bank-full.csv'\u001b[0m\u001b[0;34m,\u001b[0m \u001b[0mdelimiter\u001b[0m\u001b[0;34m=\u001b[0m\u001b[0;34m';'\u001b[0m\u001b[0;34m)\u001b[0m\u001b[0;34m\u001b[0m\u001b[0m\n\u001b[0m",
      "\u001b[0;31mNameError\u001b[0m: name 'pandas' is not defined"
     ]
    }
   ],
   "source": [
    "banks = pandas.read_csv('bank-full.csv', delimiter=';')"
   ]
  },
  {
   "cell_type": "markdown",
   "metadata": {},
   "source": [
    "#### Wielkość zbioru"
   ]
  },
  {
   "cell_type": "code",
   "execution_count": 3,
   "metadata": {
    "scrolled": false
   },
   "outputs": [
    {
     "ename": "NameError",
     "evalue": "name 'banks' is not defined",
     "output_type": "error",
     "traceback": [
      "\u001b[0;31m---------------------------------------------------------------------------\u001b[0m",
      "\u001b[0;31mNameError\u001b[0m                                 Traceback (most recent call last)",
      "\u001b[0;32m<ipython-input-3-97fdc05884c4>\u001b[0m in \u001b[0;36m<module>\u001b[0;34m()\u001b[0m\n\u001b[0;32m----> 1\u001b[0;31m \u001b[0mlen\u001b[0m\u001b[0;34m(\u001b[0m\u001b[0mbanks\u001b[0m\u001b[0;34m)\u001b[0m\u001b[0;34m\u001b[0m\u001b[0m\n\u001b[0m",
      "\u001b[0;31mNameError\u001b[0m: name 'banks' is not defined"
     ]
    }
   ],
   "source": [
    "len(banks)"
   ]
  },
  {
   "cell_type": "markdown",
   "metadata": {},
   "source": [
    "#### (Wielkość zbioru, ilość cech)"
   ]
  },
  {
   "cell_type": "code",
   "execution_count": null,
   "metadata": {},
   "outputs": [],
   "source": [
    "banks.shape"
   ]
  },
  {
   "cell_type": "markdown",
   "metadata": {},
   "source": [
    "#### Przykładowe rekordy zawarte w bazie danych"
   ]
  },
  {
   "cell_type": "code",
   "execution_count": null,
   "metadata": {},
   "outputs": [],
   "source": [
    "banks.tail()"
   ]
  },
  {
   "cell_type": "markdown",
   "metadata": {},
   "source": [
    "Kolumny zawierają takie cechy jak: wiek, praca, stan cywilny, wykształcenie, informacje o kredycie, średnie roczne saldo, kredyt mieszkaniowy, pożyczka, typ komunikacji, ostatni dzień kontaktu, ostatni miesiąc kontaktu, czas ostatniego kontaktu (w sekundach), liczba połączeń wykonanych do tego klienta, liczba dni jaka upłynęła od poprzedniego kontaktu z poprzedniej kampanii, liczba polączeń wykonanych przed kampanią, wynik poprzedniej kampanii, decyzja"
   ]
  },
  {
   "cell_type": "code",
   "execution_count": null,
   "metadata": {},
   "outputs": [],
   "source": [
    "banks.plot()"
   ]
  },
  {
   "cell_type": "markdown",
   "metadata": {},
   "source": [
    "#### Mapujemy wynik na 1 i 0"
   ]
  },
  {
   "cell_type": "code",
   "execution_count": null,
   "metadata": {},
   "outputs": [],
   "source": [
    "#values = {\"yes\": 1, \"no\": 0}\n",
    "#banks.replace({\"y\": values})"
   ]
  },
  {
   "cell_type": "markdown",
   "metadata": {},
   "source": [
    "#### Rozkład podjętych subskrypcji depozytów terminowych (yes/no)."
   ]
  },
  {
   "cell_type": "code",
   "execution_count": 1,
   "metadata": {},
   "outputs": [
    {
     "ename": "NameError",
     "evalue": "name 'banks' is not defined",
     "output_type": "error",
     "traceback": [
      "\u001b[0;31m---------------------------------------------------------------------------\u001b[0m",
      "\u001b[0;31mNameError\u001b[0m                                 Traceback (most recent call last)",
      "\u001b[0;32m<ipython-input-1-daa673157242>\u001b[0m in \u001b[0;36m<module>\u001b[0;34m()\u001b[0m\n\u001b[0;32m----> 1\u001b[0;31m \u001b[0mbanks\u001b[0m\u001b[0;34m.\u001b[0m\u001b[0my\u001b[0m\u001b[0;34m.\u001b[0m\u001b[0mvalue_counts\u001b[0m\u001b[0;34m(\u001b[0m\u001b[0;34m)\u001b[0m\u001b[0;34m.\u001b[0m\u001b[0mplot\u001b[0m\u001b[0;34m.\u001b[0m\u001b[0mbar\u001b[0m\u001b[0;34m(\u001b[0m\u001b[0;34m)\u001b[0m\u001b[0;34m\u001b[0m\u001b[0m\n\u001b[0m",
      "\u001b[0;31mNameError\u001b[0m: name 'banks' is not defined"
     ]
    }
   ],
   "source": [
    "banks.y.value_counts().plot.bar()"
   ]
  },
  {
   "cell_type": "markdown",
   "metadata": {},
   "source": [
    "Decyzje negatywne znacząco przeważają nad tymi pozytywnymi, dlatego możemy zauważyć, że dopiero co 9 klient był zainteresowany założeniem lokaty."
   ]
  },
  {
   "cell_type": "markdown",
   "metadata": {},
   "source": [
    "#### Wykres zawodów osób biorących udział w badaniu"
   ]
  },
  {
   "cell_type": "code",
   "execution_count": null,
   "metadata": {
    "scrolled": true
   },
   "outputs": [],
   "source": [
    "banks.job.value_counts().plot.pie()\n"
   ]
  },
  {
   "cell_type": "markdown",
   "metadata": {},
   "source": [
    "Klienci do których zostały wykonane połączenia głównie pracują ficzycznie, zajmują się zarządzaniem lub są technikami."
   ]
  },
  {
   "cell_type": "markdown",
   "metadata": {},
   "source": [
    "#### Wykres wykształcenia"
   ]
  },
  {
   "cell_type": "code",
   "execution_count": null,
   "metadata": {},
   "outputs": [],
   "source": [
    "banks.education.value_counts().plot.pie()"
   ]
  },
  {
   "cell_type": "markdown",
   "metadata": {},
   "source": [
    "Największą grupę wśród klientów zajmują ludzie z wykształceniem średnim i jest to powyżej 50%, ponad 1/4 to klienci z wykształceniem wyższym."
   ]
  },
  {
   "cell_type": "markdown",
   "metadata": {},
   "source": [
    "#### Przypisanie do zmiennych decyzji odnośnie subskrypcji "
   ]
  },
  {
   "cell_type": "code",
   "execution_count": null,
   "metadata": {
    "scrolled": true
   },
   "outputs": [],
   "source": [
    "positive = banks.loc[banks['y'] == 'yes']\n",
    "negative = banks.loc[banks['y'] == 'no']"
   ]
  },
  {
   "cell_type": "markdown",
   "metadata": {},
   "source": [
    "#### Pozytywne odpowiedzi w zależności od zawodu"
   ]
  },
  {
   "cell_type": "code",
   "execution_count": null,
   "metadata": {},
   "outputs": [],
   "source": [
    "labels = banks.job.unique()\n",
    "positive_fracs = positive.job.value_counts()\n",
    "negative_fracs = negative.job.value_counts()\n",
    "\n",
    "fig, axs = plt.subplots(1, 2)\n",
    "\n",
    "axs[0].pie(positive_fracs, labels=labels, autopct='%1.0f%%', shadow=True)\n",
    "axs[0].set(title=\"Positive responses\")\n",
    "axs[1].pie(negative_fracs, labels=labels, autopct='%1.0f%%', shadow=True)\n",
    "axs[1].set(title=\"Negative responses\")"
   ]
  },
  {
   "cell_type": "markdown",
   "metadata": {},
   "source": [
    "W obu przypadkach możemy zauważyć, że największą grupę stanowią klienci zajmujący się zarządzeniem, a także technicy. "
   ]
  },
  {
   "cell_type": "markdown",
   "metadata": {},
   "source": [
    "#### Odpowiedzi w zależności od wykształcenia"
   ]
  },
  {
   "cell_type": "code",
   "execution_count": null,
   "metadata": {},
   "outputs": [],
   "source": [
    "labels = banks.education.unique()\n",
    "positive_fracs = positive.education.value_counts()\n",
    "negative_fracs = negative.education.value_counts()\n",
    "\n",
    "fig, axs = plt.subplots(1, 2)\n",
    "\n",
    "axs[0].pie(positive_fracs, labels=labels, autopct='%1.0f%%', shadow=True)\n",
    "axs[0].set(title=\"Positive responses\")\n",
    "axs[1].pie(negative_fracs, labels=labels, autopct='%1.0f%%', shadow=True)\n",
    "axs[1].set(title=\"Negative responses\")"
   ]
  },
  {
   "cell_type": "markdown",
   "metadata": {},
   "source": [
    "Ponad połowa negatywnych odpowiedzi należała do ludzi z wykształceniem wyższym. Możemy zauważyć, że chętni na subskrypcje lokaty byli klienci z wykształceniem średnim, stanowili oni aż 38% pozytwnych odpowiedzi. Patrząc na to, że było ich znacząco mniej niż tych z wykształceniem wyższym, możemy zaobserwować, że większy odsetek z nich sięgał po lokate."
   ]
  },
  {
   "cell_type": "markdown",
   "metadata": {},
   "source": [
    "#### Odpowiedzi w zależności od stanu cywilnego"
   ]
  },
  {
   "cell_type": "markdown",
   "metadata": {},
   "source": [
    "Stan cywilny zawiera 3 możliwości: żonaty, rozwiedziony, singiel"
   ]
  },
  {
   "cell_type": "code",
   "execution_count": null,
   "metadata": {},
   "outputs": [],
   "source": [
    "labels = banks.marital.unique()\n",
    "positive_fracs = positive.marital.value_counts()\n",
    "negative_fracs = negative.marital.value_counts()\n",
    "\n",
    "fig, axs = plt.subplots(1, 2)\n",
    "\n",
    "axs[0].pie(positive_fracs, labels=labels, autopct='%1.0f%%', shadow=True)\n",
    "axs[0].set(title=\"Positive responses\")\n",
    "axs[1].pie(negative_fracs, labels=labels, autopct='%1.0f%%', shadow=True)\n",
    "axs[1].set(title=\"Negative responses\")"
   ]
  },
  {
   "cell_type": "markdown",
   "metadata": {},
   "source": [
    "#### Odpowiedzi w zależności od wieku"
   ]
  },
  {
   "cell_type": "markdown",
   "metadata": {},
   "source": [
    "##### Pozytywne"
   ]
  },
  {
   "cell_type": "code",
   "execution_count": null,
   "metadata": {},
   "outputs": [],
   "source": [
    "labels = banks.age.unique()\n",
    "positive_fracs = positive.age.value_counts()\n",
    "\n",
    "positive.age.plot(kind = 'hist', bins=9, title=\"Pozytywne\")"
   ]
  },
  {
   "cell_type": "markdown",
   "metadata": {},
   "source": [
    "##### Negatywne"
   ]
  },
  {
   "cell_type": "code",
   "execution_count": null,
   "metadata": {},
   "outputs": [],
   "source": [
    "negative.age.plot(kind = 'hist', bins=9, title=\"Negatywne\")\n"
   ]
  },
  {
   "cell_type": "markdown",
   "metadata": {},
   "source": [
    "Na obu wykresach możemy zaobserwować znaczącą dominację grupy osób w wieku 30 lat, lecz mamy tutaj inne skale. Pozytywne odpowiedzi sięgają jedynie do 1700, natomiast negatywne do około 12000. Możemy zaobserwować wzrost odpowiedzi pozytywnych w stosunku do negatywnych, klientów w wieku 60 lat i więcej."
   ]
  },
  {
   "cell_type": "markdown",
   "metadata": {},
   "source": [
    "#### Decyzje w zależności od dnia miesiąca w jakim była przedstawiona oferta"
   ]
  },
  {
   "cell_type": "code",
   "execution_count": null,
   "metadata": {},
   "outputs": [],
   "source": [
    "labels = banks.day.unique()\n",
    "positive_fracs = positive.day.value_counts()\n",
    "\n",
    "positive.day.plot(kind = 'hist', bins=30, title=\"Pozytywne\")"
   ]
  },
  {
   "cell_type": "markdown",
   "metadata": {},
   "source": [
    "Najwięcej poztywnych odpowiedzi otrzymaliśmy na koniec miesiąca."
   ]
  },
  {
   "cell_type": "markdown",
   "metadata": {},
   "source": [
    "## Nic ciekawego póki co, spróbujmy inaczej"
   ]
  },
  {
   "cell_type": "markdown",
   "metadata": {},
   "source": [
    "#### Decyzje ludzi w zależności do tego czy mają pożyczkę"
   ]
  },
  {
   "cell_type": "code",
   "execution_count": null,
   "metadata": {},
   "outputs": [],
   "source": [
    "with_loan = banks.loc[banks['loan'] == 'yes']\n",
    "without_loan = banks.loc[banks['loan'] == 'no']\n",
    "without_loan.y.value_counts()"
   ]
  },
  {
   "cell_type": "markdown",
   "metadata": {},
   "source": [
    "Prawie 38 tysięcy klientów odpowiedziało, że posiada już pożyczkę i z tego około 12% zdecydowało się na lokatę bankową."
   ]
  },
  {
   "cell_type": "code",
   "execution_count": null,
   "metadata": {},
   "outputs": [],
   "source": [
    "labels = with_loan.y.unique()\n",
    "with_loan_decisions = with_loan.y.value_counts()\n",
    "without_loan_decisions = without_loan.y.value_counts()\n",
    "\n",
    "fig, axs = plt.subplots(1, 2)\n",
    "\n",
    "axs[0].pie(with_loan_decisions, labels=labels, autopct='%1.0f%%', shadow=True)\n",
    "axs[0].set(title=\"People with loans\")\n",
    "axs[1].pie(without_loan_decisions, labels=labels, autopct='%1.0f%%', shadow=True)\n",
    "axs[1].set(title=\"People without loans\")"
   ]
  },
  {
   "cell_type": "markdown",
   "metadata": {},
   "source": [
    "Wykresy przedstawiają zależność decyzji w stosunku do tego, czy klient posiada pożyczkę, czy nie. Większy odsetek ludzi zdecydował się na lokatę bankową, jeśli nie posiadał pożyczki."
   ]
  },
  {
   "cell_type": "code",
   "execution_count": null,
   "metadata": {},
   "outputs": [],
   "source": [
    "days = range(1,32)\n",
    "decisions = banks.y\n",
    "values = {}\n",
    "\n",
    "\n",
    "\n",
    "for day in days:\n",
    "    values[day] = list(banks.loc[banks['day'] == day].y)\n",
    "\n",
    "list_values = [ v for v in values.values() ]\n",
    "yesses = list(map(lambda x: x.count('yes'), list_values))\n",
    "noes = list(map(lambda x: x.count('no'), list_values))\n",
    "yes = plt.bar(days, yesses)\n",
    "no = plt.bar(days, noes, bottom=yesses)\n",
    "\n",
    "plt.title('Decisions based on day of week')\n",
    "plt.xticks(days)\n",
    "plt.legend((yes[0], no[0]), ('Yes', 'No'))\n",
    "\n",
    "plt.show()"
   ]
  },
  {
   "cell_type": "code",
   "execution_count": null,
   "metadata": {},
   "outputs": [],
   "source": []
  }
 ],
 "metadata": {
  "kernelspec": {
   "display_name": "Python 3",
   "language": "python",
   "name": "python3"
  },
  "pycharm": {
   "stem_cell": {
    "cell_type": "raw",
    "metadata": {
     "collapsed": false
    },
    "source": []
   }
  }
 },
 "nbformat": 4,
 "nbformat_minor": 2
}
